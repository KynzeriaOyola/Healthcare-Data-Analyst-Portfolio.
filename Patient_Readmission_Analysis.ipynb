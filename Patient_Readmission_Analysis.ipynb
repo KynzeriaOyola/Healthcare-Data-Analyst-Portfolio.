{
 "cells": [
  {
   "cell_type": "markdown",
   "id": "5909329a",
   "metadata": {},
   "source": [
    "# Patient Readmission Analysis\n",
    "Logistic regression baseline for 30-day readmission prediction."
   ]
  },
  {
   "cell_type": "code",
   "execution_count": null,
   "id": "7dde45a7",
   "metadata": {},
   "outputs": [],
   "source": [
    "import pandas as pd, numpy as np\n",
    "from sklearn.model_selection import train_test_split\n",
    "from sklearn.preprocessing import StandardScaler\n",
    "from sklearn.linear_model import LogisticRegression\n",
    "from sklearn.metrics import classification_report, roc_auc_score, RocCurveDisplay\n",
    "import matplotlib.pyplot as plt\n",
    "\n",
    "df = pd.read_csv(\"readmission_data.csv\")\n",
    "X = df.drop(columns=[\"readmitted\"])\n",
    "y = df[\"readmitted\"]\n",
    "X_train, X_test, y_train, y_test = train_test_split(X, y, test_size=0.25, random_state=42, stratify=y)\n",
    "\n",
    "sc = StandardScaler()\n",
    "X_train_s = sc.fit_transform(X_train)\n",
    "X_test_s = sc.transform(X_test)\n",
    "\n",
    "clf = LogisticRegression(max_iter=200)\n",
    "clf.fit(X_train_s, y_train)\n",
    "probs = clf.predict_proba(X_test_s)[:,1]\n",
    "preds = (probs>=0.5).astype(int)\n",
    "\n",
    "print(\"ROC AUC:\", roc_auc_score(y_test, probs).round(3))\n",
    "print(classification_report(y_test, preds))\n",
    "\n",
    "RocCurveDisplay.from_predictions(y_test, probs)\n",
    "plt.title(\"ROC Curve - Readmission Model\")\n",
    "plt.show()"
   ]
  }
 ],
 "metadata": {},
 "nbformat": 4,
 "nbformat_minor": 5
}
